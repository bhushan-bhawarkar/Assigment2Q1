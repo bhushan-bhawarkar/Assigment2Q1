{
  "nbformat": 4,
  "nbformat_minor": 0,
  "metadata": {
    "colab": {
      "provenance": []
    },
    "kernelspec": {
      "name": "python3",
      "display_name": "Python 3"
    },
    "language_info": {
      "name": "python"
    }
  },
  "cells": [
    {
      "cell_type": "code",
      "execution_count": 1,
      "metadata": {
        "colab": {
          "base_uri": "https://localhost:8080/"
        },
        "id": "XcxusvZ6fpjz",
        "outputId": "2322420c-9784-403b-9847-28d05b6f46ae"
      },
      "outputs": [
        {
          "output_type": "stream",
          "name": "stdout",
          "text": [
            "[1, 3, 12, 0, 0]\n"
          ]
        }
      ],
      "source": [
        "def moveZeroes(nums):\n",
        "\n",
        "\n",
        "    last_non_zero_pos = 0\n",
        "\n",
        "\n",
        "    for i in range(len(nums)):\n",
        "        if nums[i] != 0:\n",
        "\n",
        "            nums[i], nums[last_non_zero_pos] = nums[last_non_zero_pos], nums[i]\n",
        "\n",
        "            last_non_zero_pos += 1\n",
        "\n",
        "\n",
        "nums = [0, 1, 0, 3, 12]\n",
        "moveZeroes(nums)\n",
        "print(nums)\n"
      ]
    },
    {
      "cell_type": "code",
      "source": [],
      "metadata": {
        "id": "w7xRejePf-N1"
      },
      "execution_count": null,
      "outputs": []
    }
  ]
}